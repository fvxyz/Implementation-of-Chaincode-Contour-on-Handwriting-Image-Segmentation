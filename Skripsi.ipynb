{
 "cells": [
  {
   "cell_type": "code",
   "execution_count": 1,
   "metadata": {},
   "outputs": [],
   "source": [
    "import cv2 \n",
    "import numpy as np\n",
    "import matplotlib.pyplot as plt\n",
    "import os\n",
    "\n",
    "np.set_printoptions(threshold=5)"
   ]
  },
  {
   "cell_type": "markdown",
   "metadata": {},
   "source": [
    "# Functions"
   ]
  },
  {
   "cell_type": "code",
   "execution_count": 2,
   "metadata": {},
   "outputs": [],
   "source": [
    "def showimages():\n",
    "\tcv2.namedWindow('Source Image', cv2.WINDOW_AUTOSIZE)\n",
    "\tcv2.namedWindow('Threshold Image', cv2.WINDOW_AUTOSIZE)\n",
    "\tcv2.namedWindow('Binary Image', cv2.WINDOW_AUTOSIZE)\n",
    "\n",
    "\n",
    "\tcv2.imshow(\"Source Image\", src_img)\n",
    "\tcv2.imshow(\"Binary Image\", bin_img)\n",
    "\tcv2.imshow(\"Threshold Image\", final_thr)\n",
    "\n",
    "\n",
    "def closewindows():\n",
    "\tk = cv2.waitKey(0)\n",
    "\tif k & 0xFF == ord('s'):\n",
    "\t\tcomment = input(\"Comment:-\\n \")\n",
    "\t\tcv2.imwrite('C:/Users/Ficki/Desktop/SKRIPSILK/Skripsi/data/test_result/'+comment+'_thres'+'.jpg',final_thr)\n",
    "\t\tcv2.imwrite('C:/Users/Ficki/Desktop/SKRIPSILK/Skripsi/data/test_result/'+comment+'_src'+'.jpg',src_img)\n",
    "\t\tcv2.imwrite('C:/Users/Ficki/Desktop/SKRIPSILK/Skripsi/data/test_result/'+comment+'_contr'+'.jpg',bin_img)\n",
    "\t\tprint(\"Completed\")\n",
    "\telif k & 0xFF == int(27):\n",
    "\t\tcv2.destroyAllWindows()\n",
    "\telse:\n",
    "\t\tclosewindows()\n",
    "\n",
    "def line_array(array):\n",
    "\tlist_x_upper = []\n",
    "\tlist_x_lower = []\n",
    "\tfor y in range(5, len(array)-5):\n",
    "\t\ts_a, s_p = strtline(y, array)\n",
    "\t\te_a, e_p = endline(y, array)\n",
    "\t\tif s_a>=7 and s_p>=5:\n",
    "\t\t\tlist_x_upper.append(y)\n",
    "\t\t\t# bin_img[y][:] = 255\n",
    "\t\tif e_a>=5 and e_p>=7:\n",
    "\t\t\tlist_x_lower.append(y)\n",
    "\t\t\t# bin_img[y][:] = 255\n",
    "\treturn list_x_upper, list_x_lower\n",
    "\n",
    "def strtline(y, array):\n",
    "\tcount_ahead = 0\n",
    "\tcount_prev = 0\n",
    "\tfor i in array[y:y+10]:\n",
    "\t\tif i > 3:\n",
    "\t\t\tcount_ahead+= 1  \n",
    "\tfor i in array[y-10:y]:\n",
    "\t\tif i==0:\n",
    "\t\t\tcount_prev += 1  \n",
    "\treturn count_ahead, count_prev\n",
    "\n",
    "def endline(y, array):\n",
    "\tcount_ahead = 0\n",
    "\tcount_prev = 0\n",
    "\tfor i in array[y:y+10]:\n",
    "\t\tif i==0:\n",
    "\t\t\tcount_ahead+= 1  \n",
    "\tfor i in array[y-10:y]:\n",
    "\t\tif i >3:\n",
    "\t\t\tcount_prev += 1  \n",
    "\treturn count_ahead, count_prev\n",
    "\n",
    "def endline_word(y, array, a):\n",
    "\tcount_ahead = 0\n",
    "\tcount_prev = 0\n",
    "\tfor i in array[y:y+2*a]:\n",
    "\t\tif i < 2:\n",
    "\t\t\tcount_ahead+= 1  \n",
    "\tfor i in array[y-a:y]:\n",
    "\t\tif i > 2:\n",
    "\t\t\tcount_prev += 1  \n",
    "\treturn count_prev ,count_ahead\n",
    "\n",
    "def end_line_array(array, a):\n",
    "\tlist_endlines = []\n",
    "\tfor y in range(len(array)):\n",
    "\t\te_p, e_a = endline_word(y, array, a)\n",
    "\t\t# print(e_p, e_a)\n",
    "\t\tif e_a >= int(1.5*a) and e_p >= int(0.7*a):\n",
    "\t\t\tlist_endlines.append(y)\n",
    "\treturn list_endlines\n",
    "\n",
    "def refine_endword(array):\n",
    "\trefine_list = []\n",
    "\tfor y in range(len(array)-1):\n",
    "\t\tif array[y]+1 < array[y+1]:\n",
    "\t\t\trefine_list.append(array[y])\n",
    "\trefine_list.append(array[-1])\n",
    "\treturn refine_list\n",
    "\n",
    "\n",
    "\n",
    "def refine_array(array_upper, array_lower):\n",
    "\tupperlines = []\n",
    "\tlowerlines = []\n",
    "\tfor y in range(len(array_upper)-1):\n",
    "\t\tif array_upper[y] + 5 < array_upper[y+1]:\n",
    "\t\t\tupperlines.append(array_upper[y]-10)\n",
    "\tfor y in range(len(array_lower)-1):\n",
    "\t\tif array_lower[y] + 5 < array_lower[y+1]:\n",
    "\t\t\tlowerlines.append(array_lower[y]+10)\n",
    "\n",
    "\tupperlines.append(array_upper[-1]-10)\n",
    "\tlowerlines.append(array_lower[-1]+10)\n",
    "\t\n",
    "\treturn upperlines, lowerlines\n",
    "\n",
    "def letter_width(contours):\n",
    "\tletter_width_sum = 0\n",
    "\tcount = 0\n",
    "\tfor cnt in contours:\n",
    "\t\tif cv2.contourArea(cnt) > 20:\n",
    "\t\t\tx,y,w,h = cv2.boundingRect(cnt)\n",
    "\t\t\tletter_width_sum += w\n",
    "\t\t\tcount += 1\n",
    "\treturn letter_width_sum/count\n",
    "\n",
    "\n",
    "def end_wrd_dtct(lines, i, bin_img, mean_lttr_width):\n",
    "\tcount_y = np.zeros(shape = width)\n",
    "\tfor x in range(width):\n",
    "\t\tfor y in range(lines[i][0],lines[i][1]):\n",
    "\t\t\tif bin_img[y][x] == 255:\n",
    "\t\t\t\tcount_y[x] += 1\n",
    "\tend_lines = end_line_array(count_y, int(mean_lttr_width))\n",
    "\t# print(end_lines)\n",
    "\tendlines = refine_endword(end_lines)\n",
    "\tfor x in endlines:\n",
    "\t\tfinal_thr[lines[i][0]:lines[i][1], x] = 255\n",
    "\treturn endlines\n",
    "\n",
    "def letter_seg(lines_img, x_lines, i):\n",
    "\tcopy_img = lines_img[i].copy()\n",
    "\tx_linescopy = x_lines[i].copy()\n",
    "\t\n",
    "\tletter_img = []\n",
    "\tletter_k = []\n",
    "\t\n",
    "\tcontours, hierarchy = cv2.findContours(copy_img,cv2.RETR_EXTERNAL,cv2.CHAIN_APPROX_SIMPLE)\t\n",
    "\tfor cnt in contours:\n",
    "\t\tif cv2.contourArea(cnt) > 50:\n",
    "\t\t\tx,y,w,h = cv2.boundingRect(cnt)\n",
    "\t\t\t# letter_img.append(lines_img[i][y:y+h, x:x+w])\n",
    "\t\t\tletter_k.append((x,y,w,h))\n",
    "\n",
    "\tletter = sorted(letter_k, key=lambda student: student[0])\n",
    "\t# print(letter)\n",
    "\t\n",
    "\tword = 1\n",
    "\tletter_index = 0\n",
    "\tfor e in range(len(letter)):\n",
    "\t\tif(letter[e][0]<x_linescopy[0]):\n",
    "\t\t\tletter_index += 1\n",
    "\t\t\tletter_img_tmp = lines_img[i][letter[e][1]-5:letter[e][1]+letter[e][3]+5,letter[e][0]-5:letter[e][0]+letter[e][2]+5]\n",
    "\t\t\tletter_img = cv2.resize(letter_img_tmp, dsize =(28, 28), interpolation = cv2.INTER_AREA)\n",
    "\t\t\tcv2.imwrite('C:/Users/Ficki/Desktop/SKRIPSILK/Skripsi/segmented_img/img_8/'+str(i+1)+'_'+str(word)+'_'+str(letter_index)+'.jpg', 255-letter_img)\n",
    "\t\telse:\n",
    "\t\t\tx_linescopy.pop(0)\n",
    "\t\t\tword += 1\n",
    "\t\t\tletter_index = 1\n",
    "\t\t\tletter_img_tmp = lines_img[i][letter[e][1]-5:letter[e][1]+letter[e][3]+5,letter[e][0]-5:letter[e][0]+letter[e][2]+5]\n",
    "\t\t\tletter_img = cv2.resize(letter_img_tmp, dsize =(28, 28), interpolation = cv2.INTER_AREA)\n",
    "\t\t\tcv2.imwrite('C:/Users/Ficki/Desktop/SKRIPSILK/Skripsi/segmented_img/img_8/'+str(i+1)+'_'+str(word)+'_'+str(letter_index)+'.jpg', 255-letter_img)\n",
    "\t\t\t# print(letter[e][0],x_linescopy[0], word)"
   ]
  },
  {
   "cell_type": "markdown",
   "metadata": {},
   "source": [
    "# Reading Image Size"
   ]
  },
  {
   "cell_type": "code",
   "execution_count": 3,
   "metadata": {},
   "outputs": [
    {
     "name": "stdout",
     "output_type": "stream",
     "text": [
      "\n",
      " Reading Image........\n",
      "#---------Image Info:--------#\n",
      "\tHeight = 864 \n",
      "\tWidth = 1152\n",
      "#----------------------------#\n"
     ]
    }
   ],
   "source": [
    "from PIL import Image\n",
    "image = Image.open('C:/Users/Ficki/Desktop/SKRIPSILK/Skripsi/data/img_1.jpg')\n",
    "width, height = image.size\n",
    "print(\"\\n Reading Image........\")\n",
    "print(\"#---------Image Info:--------#\")\n",
    "print(\"\\tHeight =\",height,\"\\n\\tWidth =\",width)\n",
    "print(\"#----------------------------#\")"
   ]
  },
  {
   "cell_type": "markdown",
   "metadata": {},
   "source": [
    "# Thresholding Image"
   ]
  },
  {
   "cell_type": "code",
   "execution_count": 4,
   "metadata": {},
   "outputs": [
    {
     "name": "stdout",
     "output_type": "stream",
     "text": [
      "\n",
      "........Program Initiated.......\n",
      "\n",
      "\n",
      " Resizing Image........\n",
      "#---------Image Info:--------#\n",
      "\tHeight = 990 \n",
      "\tWidth = 1320\n",
      "#----------------------------#\n",
      "Applying Adaptive Threshold with kernel :- 21 X 21\n"
     ]
    }
   ],
   "source": [
    "print(\"\\n........Program Initiated.......\\n\")\n",
    "src_img= cv2.imread('C:/Users/Ficki/Desktop/SKRIPSILK/Skripsi/data/img_1.jpg', 1)\n",
    "copy = src_img.copy()\n",
    "height = src_img.shape[0]\n",
    "width = src_img.shape[1]\n",
    "\n",
    "\n",
    "print(\"\\n Resizing Image........\")\n",
    "src_img = cv2.resize(copy, dsize =(1320, int(1320*height/width)), interpolation = cv2.INTER_AREA)\n",
    "\n",
    "height = src_img.shape[0]\n",
    "width = src_img.shape[1]\n",
    "\n",
    "print(\"#---------Image Info:--------#\")\n",
    "print(\"\\tHeight =\",height,\"\\n\\tWidth =\",width)\n",
    "print(\"#----------------------------#\")\n",
    "\n",
    "grey_img = cv2.cvtColor(src_img, cv2.COLOR_BGR2GRAY)\n",
    "\n",
    "print(\"Applying Adaptive Threshold with kernel :- 21 X 21\")\n",
    "bin_img = cv2.adaptiveThreshold(grey_img,255,cv2.ADAPTIVE_THRESH_MEAN_C,cv2.THRESH_BINARY_INV,21,20)\n",
    "bin_img1 = bin_img.copy()\n",
    "bin_img2 = bin_img.copy()\n",
    "\n",
    "kernel = cv2.getStructuringElement(cv2.MORPH_ELLIPSE,(3,3))\n",
    "kernel1 = np.array([[1,0,1],[0,1,0],[1,0,1]], dtype = np.uint8)\n",
    "final_thr = cv2.morphologyEx(bin_img, cv2.MORPH_CLOSE, kernel)\n",
    "contr_retrival = final_thr.copy()\n"
   ]
  },
  {
   "cell_type": "markdown",
   "metadata": {},
   "source": [
    "# Line Detection"
   ]
  },
  {
   "cell_type": "code",
   "execution_count": 5,
   "metadata": {},
   "outputs": [
    {
     "name": "stdout",
     "output_type": "stream",
     "text": [
      "Beginning Character Segmenation..............\n",
      "[441] [586]\n",
      "\n",
      "Given Text has   #  1  #   no. of lines\n"
     ]
    },
    {
     "data": {
      "image/png": "[encoded data removed]",
      "text/plain": [
       "<Figure size 432x288 with 1 Axes>"
      ]
     },
     "metadata": {
      "needs_background": "light"
     },
     "output_type": "display_data"
    }
   ],
   "source": [
    "print(\"Beginning Character Segmenation..............\")\n",
    "count_x = np.zeros(shape= (height))\n",
    "for y in range(height):\n",
    "\tfor x in range(width):\n",
    "\t\tif bin_img[y][x] == 255 :\n",
    "\t\t\tcount_x[y] = count_x[y]+1\n",
    "\n",
    "t = np.arange(0,height, 1)\n",
    "plt.plot(t, count_x[t])\n",
    "plt.axis([0, height, 0, 350])\n",
    "\n",
    "upper_lines, lower_lines = line_array(count_x)\n",
    "\n",
    "upperlines, lowerlines = refine_array(upper_lines, lower_lines)\n",
    "\n",
    "print(upperlines, lowerlines)\n",
    "if len(upperlines)==len(lowerlines):\n",
    "\tlines = []\n",
    "\tfor y in upperlines:\n",
    "\t\tfinal_thr[y][:] = 255\t\n",
    "\tfor y in lowerlines:\n",
    "\t\tfinal_thr[y][:] = 255\n",
    "\tfor y in range(len(upperlines)):\n",
    "\t\tlines.append((upperlines[y], lowerlines[y]))\n",
    "\t\n",
    "else:\n",
    "\tprint(\"Too much noise in image, unable to process.\\nPlease try with another image. Ctrl-C to exit:- \")\n",
    "\tshowimages()\n",
    "\tk = cv2.waitKey(0)\n",
    "\twhile 1:\n",
    "\t\tk = cv2.waitKey(0)\n",
    "\t\tif k & 0xFF == ord('q'):\n",
    "\t\t\tcv2.destroyAllWindows()\n",
    "\t\t\texit()\n",
    "\n",
    "lines = np.array(lines)\n",
    "\n",
    "no_of_lines = len(lines)\n",
    "\n",
    "print(\"\\nGiven Text has   # \",no_of_lines, \" #   no. of lines\")\n",
    "\n",
    "lines_img = []\n",
    "\n",
    "for i in range(no_of_lines):\n",
    "\tlines_img.append(bin_img2[lines[i][0]:lines[i][1], :])"
   ]
  },
  {
   "cell_type": "markdown",
   "metadata": {},
   "source": [
    "# Letter Width Calculation"
   ]
  },
  {
   "cell_type": "code",
   "execution_count": 6,
   "metadata": {},
   "outputs": [
    {
     "name": "stdout",
     "output_type": "stream",
     "text": [
      "\n",
      "Average Width of Each Letter:-  29.105263157894736\n"
     ]
    }
   ],
   "source": [
    "contours, hierarchy = cv2.findContours(contr_retrival,cv2.RETR_EXTERNAL,cv2.CHAIN_APPROX_SIMPLE)\n",
    "final_contr = np.zeros((final_thr.shape[0],final_thr.shape[1],3), dtype = np.uint8)\n",
    "cv2.drawContours(src_img, contours, -1, (0,255,0), 1)\n",
    "\n",
    "mean_lttr_width = letter_width(contours)\n",
    "print(\"\\nAverage Width of Each Letter:- \", mean_lttr_width)"
   ]
  },
  {
   "cell_type": "markdown",
   "metadata": {},
   "source": [
    "# Word Detection"
   ]
  },
  {
   "cell_type": "code",
   "execution_count": 7,
   "metadata": {},
   "outputs": [
    {
     "name": "stdout",
     "output_type": "stream",
     "text": [
      "[[450, 874, 1045, 1320]]\n"
     ]
    }
   ],
   "source": [
    "x_lines = []\n",
    "\n",
    "for i in range(len(lines_img)):\n",
    "\tx_lines.append(end_wrd_dtct(lines, i, bin_img, mean_lttr_width))\n",
    "\n",
    "for i in range(len(x_lines)):\n",
    "\tx_lines[i].append(width)\n",
    "\n",
    "print(x_lines)"
   ]
  },
  {
   "cell_type": "markdown",
   "metadata": {},
   "source": [
    "# Letter Segmentation"
   ]
  },
  {
   "cell_type": "code",
   "execution_count": 8,
   "metadata": {},
   "outputs": [],
   "source": [
    "for i in range(len(lines)):\n",
    "\tletter_seg(lines_img, x_lines, i)\t"
   ]
  },
  {
   "cell_type": "markdown",
   "metadata": {},
   "source": [
    "# Character Segmenting"
   ]
  },
  {
   "cell_type": "code",
   "execution_count": 9,
   "metadata": {},
   "outputs": [],
   "source": [
    "chr_img = bin_img1.copy()\n",
    "\n",
    "contours, hierarchy = cv2.findContours(chr_img,cv2.RETR_EXTERNAL,cv2.CHAIN_APPROX_SIMPLE)\n",
    "bin_img = np.zeros((final_thr.shape[0],final_thr.shape[1],3), dtype = np.uint8)\n",
    "cv2.drawContours(bin_img, contours, -1, (0,255,0), 1)\n",
    "\n",
    "for cnt in contours:\n",
    "\tif cv2.contourArea(cnt) > 20:\n",
    "\t\tx,y,w,h = cv2.boundingRect(cnt)\n",
    "\t\tcv2.rectangle(src_img,(x,y),(x+w,y+h),(0,255,0),2)\n",
    "        #cv2.rectangle(src_img,(x,y),(x+w,y+h),(0,255,0),2)"
   ]
  },
  {
   "cell_type": "code",
   "execution_count": 10,
   "metadata": {},
   "outputs": [],
   "source": [
    "showimages()"
   ]
  },
  {
   "cell_type": "code",
   "execution_count": 11,
   "metadata": {},
   "outputs": [
    {
     "name": "stdout",
     "output_type": "stream",
     "text": [
      "Comment:-\n",
      " demo\n",
      "Completed\n"
     ]
    }
   ],
   "source": [
    "closewindows()"
   ]
  },
  {
   "cell_type": "code",
   "execution_count": null,
   "metadata": {},
   "outputs": [],
   "source": []
  }
 ],
 "metadata": {
  "kernelspec": {
   "display_name": "Python 3",
   "language": "python",
   "name": "python3"
  },
  "language_info": {
   "codemirror_mode": {
    "name": "ipython",
    "version": 3
   },
   "file_extension": ".py",
   "mimetype": "text/x-python",
   "name": "python",
   "nbconvert_exporter": "python",
   "pygments_lexer": "ipython3",
   "version": "3.7.6"
  }
 },
 "nbformat": 4,
 "nbformat_minor": 4
}
